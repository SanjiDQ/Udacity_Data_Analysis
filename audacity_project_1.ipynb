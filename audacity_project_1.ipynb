{
 "cells": [
  {
   "cell_type": "code",
   "execution_count": 31,
   "metadata": {},
   "outputs": [
    {
     "data": {
      "text/plain": [
       "({u'account_key': u'448',\n",
       "  u'cancel_date': datetime.datetime(2015, 1, 14, 0, 0),\n",
       "  u'days_to_cancel': 65,\n",
       "  u'is_canceled': True,\n",
       "  u'is_udacity': True,\n",
       "  u'join_date': datetime.datetime(2014, 11, 10, 0, 0),\n",
       "  u'status': u'canceled'},\n",
       " {'account_key': u'0',\n",
       "  u'lessons_completed': 0,\n",
       "  u'num_courses_visited': 1,\n",
       "  u'projects_completed': 0,\n",
       "  u'total_minutes_visited': 11.6793745,\n",
       "  u'utc_date': datetime.datetime(2015, 1, 9, 0, 0)},\n",
       " {u'account_key': u'256',\n",
       "  u'assigned_rating': u'UNGRADED',\n",
       "  u'completion_date': datetime.datetime(2015, 1, 16, 0, 0),\n",
       "  u'creation_date': datetime.datetime(2015, 1, 14, 0, 0),\n",
       "  u'lesson_key': u'3176718735',\n",
       "  u'processing_state': u'EVALUATED'})"
      ]
     },
     "execution_count": 31,
     "metadata": {},
     "output_type": "execute_result"
    }
   ],
   "source": [
    "import unicodecsv\n",
    "import os\n",
    "from datetime import datetime as dt\n",
    "\n",
    "def read_csv(filename):\n",
    "    with open(filename,'rb') as f:\n",
    "        reader = unicodecsv.DictReader(f)\n",
    "        return list(reader)\n",
    "\n",
    "enrollments = read_csv('enrollments.csv')\n",
    "daily_engagements = read_csv('daily-engagement.csv')\n",
    "project_submissions = read_csv('project-submissions.csv')\n",
    "\n",
    "def parse_maybe_int(i):\n",
    "    if i == \"\":\n",
    "        return None\n",
    "    else:\n",
    "        return int(i)\n",
    "\n",
    "def parse_date(date):\n",
    "    if date == \"\":\n",
    "        return None\n",
    "    else:\n",
    "        return dt.strptime(date,'%Y-%m-%d')\n",
    "\n",
    "for enrollment in enrollments:\n",
    "    enrollment['cancel_date']=parse_date(enrollment['cancel_date'])\n",
    "    enrollment['days_to_cancel']= parse_maybe_int(enrollment['days_to_cancel'])\n",
    "    enrollment['is_canceled']= enrollment['is_canceled'] == 'True'\n",
    "    enrollment['is_udacity'] = enrollment['is_udacity'] == 'True'\n",
    "    enrollment['join_date'] = parse_date(enrollment['join_date'])\n",
    "\n",
    "for daily_engagement in daily_engagements:\n",
    "    daily_engagement['utc_date'] = parse_date(daily_engagement['utc_date'])\n",
    "    daily_engagement['lessons_completed'] = int(float(daily_engagement['lessons_completed']))\n",
    "    daily_engagement['num_courses_visited'] = int(float(daily_engagement['num_courses_visited']))\n",
    "    daily_engagement['projects_completed'] = int(float(daily_engagement['projects_completed']))\n",
    "    daily_engagement['total_minutes_visited'] = float(daily_engagement['total_minutes_visited'])\n",
    "    daily_engagement['account_key'] = daily_engagement['acct']\n",
    "    del[daily_engagement['acct']]\n",
    "    \n",
    "for project_submission in project_submissions:\n",
    "    project_submission['completion_date'] = parse_date(project_submission['completion_date'])\n",
    "    project_submission['creation_date'] = parse_date(project_submission['creation_date'])\n",
    "    \n",
    "    \n",
    "    \n",
    "enrollments[0],daily_engagements[0],project_submissions[0]\n",
    "#print \"daily_engagement[0]=\",daily_engagement[0],\"\\r\\n\"\n",
    "#print \"project_submission[0]=\",project_submission[0]"
   ]
  },
  {
   "cell_type": "code",
   "execution_count": 32,
   "metadata": {},
   "outputs": [
    {
     "data": {
      "text/plain": [
       "(1302, 1237, 743)"
      ]
     },
     "execution_count": 32,
     "metadata": {},
     "output_type": "execute_result"
    }
   ],
   "source": [
    "def get_unique_students(data):\n",
    "    unique_students = set()\n",
    "    for data_point in data:\n",
    "        unique_students.add(data_point['account_key'])\n",
    "    return unique_students\n",
    "\n",
    "len(enrollments)\n",
    "unique_enrolled_students = get_unique_students(enrollments)\n",
    "len(unique_enrolled_students)\n",
    "len(daily_engagement)\n",
    "unique_engagement_students = get_unique_students(daily_engagements)\n",
    "len(unique_engagement_students)\n",
    "len(project_submissions)\n",
    "unique_project_submitters = get_unique_students(project_submissions)\n",
    "len(unique_project_submitters)\n",
    "\n",
    "len(unique_enrolled_students),len(unique_engagement_students),len(unique_project_submitters)"
   ]
  },
  {
   "cell_type": "code",
   "execution_count": 67,
   "metadata": {},
   "outputs": [
    {
     "name": "stdout",
     "output_type": "stream",
     "text": [
      "66\n",
      "{u'status': u'canceled', u'is_udacity': True, u'is_canceled': True, u'join_date': datetime.datetime(2015, 1, 10, 0, 0), u'account_key': u'1304', u'cancel_date': datetime.datetime(2015, 3, 10, 0, 0), u'days_to_cancel': 59}\n",
      "{u'status': u'canceled', u'is_udacity': True, u'is_canceled': True, u'join_date': datetime.datetime(2015, 3, 10, 0, 0), u'account_key': u'1304', u'cancel_date': datetime.datetime(2015, 6, 17, 0, 0), u'days_to_cancel': 99}\n",
      "{u'status': u'current', u'is_udacity': True, u'is_canceled': False, u'join_date': datetime.datetime(2015, 2, 25, 0, 0), u'account_key': u'1101', u'cancel_date': None, u'days_to_cancel': None}\n",
      "3\n",
      "1302\n",
      "1640\n"
     ]
    },
    {
     "data": {
      "text/plain": [
       "7"
      ]
     },
     "execution_count": 67,
     "metadata": {},
     "output_type": "execute_result"
    }
   ],
   "source": [
    "in_enroll_not_in_engage = 0\n",
    "for enrollment in enrollments:\n",
    "    student_id = enrollment['account_key']\n",
    "    if student_id not in unique_engagement_students:\n",
    "        in_enroll_not_in_engage +=1\n",
    "print in_enroll_not_in_engage\n",
    "\n",
    "num_problem_student = 0\n",
    "for enrollment in enrollments:\n",
    "    student_id = enrollment['account_key']\n",
    "    if student_id not in unique_engagement_students and enrollment['join_date']!=\\\n",
    "    enrollment['cancel_date']:\n",
    "        print enrollment\n",
    "        num_problem_student +=1\n",
    "        \n",
    "print num_problem_student\n",
    "\n",
    "\n",
    "udacity_test_accounts = set()\n",
    "for enrollment in enrollments:\n",
    "    if enrollment['is_udacity']:\n",
    "        udacity_test_accounts.add(enrollment['account_key'])\n",
    "len(udacity_test_accounts)\n",
    "\n",
    "def no"
   ]
  },
  {
   "cell_type": "code",
   "execution_count": null,
   "metadata": {
    "collapsed": true
   },
   "outputs": [],
   "source": []
  }
 ],
 "metadata": {
  "kernelspec": {
   "display_name": "Python 2",
   "language": "python",
   "name": "python2"
  },
  "language_info": {
   "codemirror_mode": {
    "name": "ipython",
    "version": 2
   },
   "file_extension": ".py",
   "mimetype": "text/x-python",
   "name": "python",
   "nbconvert_exporter": "python",
   "pygments_lexer": "ipython2",
   "version": "2.7.13"
  }
 },
 "nbformat": 4,
 "nbformat_minor": 2
}
